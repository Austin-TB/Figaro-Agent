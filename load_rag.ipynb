{
 "cells": [
  {
   "cell_type": "code",
   "execution_count": 1,
   "metadata": {},
   "outputs": [],
   "source": [
    "import json\n",
    "from langchain.schema import Document\n",
    "\n",
    "def load_jsonl_as_documents(path):\n",
    "    docs = []\n",
    "    with open(path, 'r') as file:\n",
    "        for line in file:\n",
    "            data = json.loads(line)\n",
    "            text = f\"Question: {data.get(\"Question\")} Answer: {data.get(\"Final answer\")}\"\n",
    "            metadata = {k: v for k, v in data.items() if k in [\"task_id\"]}\n",
    "            docs.append(Document(page_content=text, metadata=metadata))\n",
    "    return docs\n",
    "\n",
    "documents = load_jsonl_as_documents(\"metadata.jsonl\")\n"
   ]
  },
  {
   "cell_type": "code",
   "execution_count": 2,
   "metadata": {},
   "outputs": [
    {
     "name": "stderr",
     "output_type": "stream",
     "text": [
      "C:\\Users\\austi\\AppData\\Local\\Temp\\ipykernel_944\\3745702769.py:3: LangChainDeprecationWarning: The class `HuggingFaceEmbeddings` was deprecated in LangChain 0.2.2 and will be removed in 1.0. An updated version of the class exists in the :class:`~langchain-huggingface package and should be used instead. To use it run `pip install -U :class:`~langchain-huggingface` and import as `from :class:`~langchain_huggingface import HuggingFaceEmbeddings``.\n",
      "  embedding_model = HuggingFaceEmbeddings(model_name=\"sentence-transformers/all-MiniLM-L6-v2\")\n",
      "c:\\Users\\austi\\anaconda3\\envs\\master\\Lib\\site-packages\\tqdm\\auto.py:21: TqdmWarning: IProgress not found. Please update jupyter and ipywidgets. See https://ipywidgets.readthedocs.io/en/stable/user_install.html\n",
      "  from .autonotebook import tqdm as notebook_tqdm\n"
     ]
    }
   ],
   "source": [
    "from langchain.embeddings import HuggingFaceEmbeddings\n",
    "\n",
    "embedding_model = HuggingFaceEmbeddings(model_name=\"sentence-transformers/all-MiniLM-L6-v2\")\n"
   ]
  },
  {
   "cell_type": "code",
   "execution_count": 6,
   "metadata": {},
   "outputs": [],
   "source": [
    "from langchain.vectorstores import FAISS\n",
    "\n",
    "vector_store = FAISS.from_documents(documents, embedding_model)\n",
    "vector_store.save_local(\"faiss_index\")\n"
   ]
  },
  {
   "cell_type": "code",
   "execution_count": null,
   "metadata": {},
   "outputs": [],
   "source": [
    "def retriever_node(state: MessagesState):\n",
    "    \"\"\"Simulates a LangGraph node that injects similar question context.\"\"\"\n",
    "    query = state[\"messages\"][0].content\n",
    "    retriever = vector_store.as_retriever(search_kwargs={\"k\": 1})\n",
    "    results = retriever.get_relevant_documents(query)\n",
    "\n",
    "    example_msg = HumanMessage(\n",
    "        content=f\"Here is a similar contract or question:\\n\\n{results[0].page_content}\"\n",
    "    )\n",
    "\n",
    "    return {\n",
    "        \"messages\": [sys_msg] + state[\"messages\"] + [example_msg]\n",
    "    }"
   ]
  },
  {
   "cell_type": "code",
   "execution_count": 11,
   "metadata": {},
   "outputs": [
    {
     "name": "stdout",
     "output_type": "stream",
     "text": [
      "Here is a similar contract or question:\n",
      "\n",
      "Question: What is the first name of the only Malko Competition recipient from the 20th Century (after 1977) whose nationality on record is a country that no longer exists? Answer: Claus\n"
     ]
    }
   ],
   "source": [
    "from langgraph.graph import StateGraph, MessagesState\n",
    "from langchain_core.messages import SystemMessage, HumanMessage\n",
    "sys_msg = SystemMessage(content=\"You are a helpful assistant.\")\n",
    "graph = StateGraph(MessagesState)\n",
    "graph.add_node(\"retriever\", retriever_node)\n",
    "graph.set_entry_point(\"retriever\")\n",
    "graph.set_finish_point(\"retriever\")\n",
    "\n",
    "rag_app = graph.compile()\n",
    "\n",
    "output = rag_app.invoke({\n",
    "    \"messages\": [HumanMessage(content=\"What is the first name of the only Malko Competition recipient from the 20th Century (after 1977) whose nationality on record is a country that no longer exists?\")]\n",
    "})\n",
    "\n",
    "print(output[\"messages\"][-1].content)\n"
   ]
  }
 ],
 "metadata": {
  "kernelspec": {
   "display_name": "master",
   "language": "python",
   "name": "python3"
  },
  "language_info": {
   "codemirror_mode": {
    "name": "ipython",
    "version": 3
   },
   "file_extension": ".py",
   "mimetype": "text/x-python",
   "name": "python",
   "nbconvert_exporter": "python",
   "pygments_lexer": "ipython3",
   "version": "3.13.2"
  }
 },
 "nbformat": 4,
 "nbformat_minor": 2
}
